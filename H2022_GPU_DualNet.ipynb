{
  "cells": [
    {
      "cell_type": "markdown",
      "metadata": {
        "id": "view-in-github",
        "colab_type": "text"
      },
      "source": [
        "<a href=\"https://colab.research.google.com/github/dakilaledesma/herbarium_model_testing/blob/main/H2022_GPU_DualNet.ipynb\" target=\"_parent\"><img src=\"https://colab.research.google.com/assets/colab-badge.svg\" alt=\"Open In Colab\"/></a>"
      ]
    },
    {
      "cell_type": "code",
      "execution_count": 1,
      "metadata": {
        "colab": {
          "base_uri": "https://localhost:8080/"
        },
        "id": "4RBv2CGN3gJv",
        "outputId": "c91e9840-0e16-4817-f0e9-fd8443da6a58"
      },
      "outputs": [
        {
          "output_type": "stream",
          "name": "stdout",
          "text": [
            "CPU times: user 168 ms, sys: 41.9 ms, total: 209 ms\n",
            "Wall time: 25.1 s\n"
          ]
        }
      ],
      "source": [
        "%%time\n",
        "! unzip -q /content/drive/MyDrive/UNC/H2022/RCNN_PP/pls224p56_Orchidaceae_train.zip -d /content/\n",
        "! unzip -q /content/drive/MyDrive/UNC/H2022/orchidaceae_train.zip -d /content/"
      ]
    },
    {
      "cell_type": "code",
      "source": [
        "from glob import glob\n",
        "import os\n",
        "cat_to_int = {}\n",
        "for i, f in enumerate(sorted(glob(\"pls224p56_Orchidaceae_train/*\"))):\n",
        "  cat = os.path.basename(f)\n",
        "  cat_to_int[cat] = i"
      ],
      "metadata": {
        "id": "w8eMXii5yXuw"
      },
      "execution_count": 3,
      "outputs": []
    },
    {
      "cell_type": "code",
      "source": [
        "from tensorflow.keras.applications.resnet_v2 import ResNet50V2, preprocess_input\n",
        "\n",
        "img_path = 'elephant.jpg'\n",
        "img = image.load_img(img_path, target_size=(224, 224))\n",
        "x = image.img_to_array(img)\n",
        "x = np.expand_dims(x, axis=0)\n",
        "x = preprocess_input(x)"
      ],
      "metadata": {
        "id": "_fgS8Z8Nxvg7"
      },
      "execution_count": null,
      "outputs": []
    },
    {
      "cell_type": "code",
      "source": [
        "from tensorflow.keras.applications.resnet_v2 import ResNet50V2, preprocess_input\n",
        "from tensorflow.keras.preprocessing import image\n",
        "from tensorflow.keras.models import Model\n",
        "from tensorflow.keras.layers import Dense, Concatenate\n",
        "import numpy as np\n",
        "\n",
        "classes = 300\n",
        "\n",
        "orig_model = ResNet50V2(weights='imagenet', include_top=False)\n",
        "lg_model = ResNet50V2(weights='imagenet', include_top=False)\n",
        "\n",
        "\n",
        "for ln in [layer.name for layer in lg_model.layers]:\n",
        "    lg_model.get_layer(name=ln)._name = f\"lg_{ln}\"\n",
        "\n",
        "out = Concatenate()([orig_model.output, lg_model.output])\n",
        "out = Dense(2048, activation='relu')(out)\n",
        "out = Dense(classes, activation='softmax', name='predictions')(out)\n",
        "\n",
        "model = Model(inputs=[orig_model.input, lg_model.input], outputs=out)\n",
        "\n",
        "model.compile(optimizer='adam', loss='categorical_crossentropy')"
      ],
      "metadata": {
        "id": "zGj0PO3cYf6e"
      },
      "execution_count": null,
      "outputs": []
    }
  ],
  "metadata": {
    "accelerator": "GPU",
    "colab": {
      "background_execution": "on",
      "collapsed_sections": [],
      "name": "H2022 GPU-DualNet",
      "provenance": [],
      "mount_file_id": "14MtSAM5Oy0jZ9-UYJXjotqQ6xGZPkB4_",
      "authorship_tag": "ABX9TyMRZ4AI9BqfjpbYqO/57X4F",
      "include_colab_link": true
    },
    "kernelspec": {
      "display_name": "Python 3",
      "name": "python3"
    },
    "language_info": {
      "name": "python"
    }
  },
  "nbformat": 4,
  "nbformat_minor": 0
}