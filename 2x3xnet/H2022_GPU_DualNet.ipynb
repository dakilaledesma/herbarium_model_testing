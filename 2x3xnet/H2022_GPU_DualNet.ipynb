{
  "cells": [
    {
      "cell_type": "markdown",
      "metadata": {
        "id": "view-in-github",
        "colab_type": "text"
      },
      "source": [
        "<a href=\"https://colab.research.google.com/github/dakilaledesma/herbarium_model_testing/blob/main/2x3xnet/H2022_GPU_DualNet.ipynb\" target=\"_parent\"><img src=\"https://colab.research.google.com/assets/colab-badge.svg\" alt=\"Open In Colab\"/></a>"
      ]
    },
    {
      "cell_type": "code",
      "execution_count": 1,
      "metadata": {
        "colab": {
          "base_uri": "https://localhost:8080/"
        },
        "id": "4RBv2CGN3gJv",
        "outputId": "24a7f86a-8610-48c0-bfae-4c85c5649ceb"
      },
      "outputs": [
        {
          "output_type": "stream",
          "name": "stdout",
          "text": [
            "CPU times: user 114 ms, sys: 18 ms, total: 132 ms\n",
            "Wall time: 18.9 s\n"
          ]
        }
      ],
      "source": [
        "%%time\n",
        "! unzip -q /content/drive/MyDrive/UNC/H2022/RCNN_PP/pls224p56_Orchidaceae_train.zip -d /content/\n",
        "! unzip -q /content/drive/MyDrive/UNC/H2022/orchidaceae_train.zip -d /content/"
      ]
    },
    {
      "cell_type": "code",
      "source": [
        "! pip install tensorflow-addons"
      ],
      "metadata": {
        "colab": {
          "base_uri": "https://localhost:8080/"
        },
        "id": "gMy-4SmR-yEj",
        "outputId": "4496c398-11cc-4125-e41a-3ba3793ccb0b"
      },
      "execution_count": 2,
      "outputs": [
        {
          "output_type": "stream",
          "name": "stdout",
          "text": [
            "Looking in indexes: https://pypi.org/simple, https://us-python.pkg.dev/colab-wheels/public/simple/\n",
            "Collecting tensorflow-addons\n",
            "  Downloading tensorflow_addons-0.17.1-cp37-cp37m-manylinux_2_17_x86_64.manylinux2014_x86_64.whl (1.1 MB)\n",
            "\u001b[K     |████████████████████████████████| 1.1 MB 14.4 MB/s \n",
            "\u001b[?25hRequirement already satisfied: packaging in /usr/local/lib/python3.7/dist-packages (from tensorflow-addons) (21.3)\n",
            "Requirement already satisfied: typeguard>=2.7 in /usr/local/lib/python3.7/dist-packages (from tensorflow-addons) (2.7.1)\n",
            "Requirement already satisfied: pyparsing!=3.0.5,>=2.0.2 in /usr/local/lib/python3.7/dist-packages (from packaging->tensorflow-addons) (3.0.9)\n",
            "Installing collected packages: tensorflow-addons\n",
            "Successfully installed tensorflow-addons-0.17.1\n"
          ]
        }
      ]
    },
    {
      "cell_type": "code",
      "source": [
        "classes = 300"
      ],
      "metadata": {
        "id": "Dugsnu6e22lA"
      },
      "execution_count": 3,
      "outputs": []
    },
    {
      "cell_type": "code",
      "source": [
        "from glob import glob\n",
        "import os\n",
        "cat_to_int = {}\n",
        "for i, f in enumerate(sorted(glob(\"pls224p56_Orchidaceae_train/*\"))):\n",
        "  cat = os.path.basename(f)\n",
        "  cat_to_int[cat] = i"
      ],
      "metadata": {
        "id": "w8eMXii5yXuw"
      },
      "execution_count": 4,
      "outputs": []
    },
    {
      "cell_type": "code",
      "source": [
        "valid_fn = {}\n",
        "for fn in sorted(glob(\"pls224p56_Orchidaceae_train/**/*.*\", recursive=True)):\n",
        "  bn = os.path.basename(fn)\n",
        "  valid_fn[bn] = fn"
      ],
      "metadata": {
        "id": "LRzabobX1BLM"
      },
      "execution_count": 5,
      "outputs": []
    },
    {
      "cell_type": "code",
      "source": [
        "from tensorflow.keras.applications.resnet_v2 import ResNet50V2, preprocess_input\n",
        "from tensorflow.keras.preprocessing import image\n",
        "from tqdm.notebook import tqdm\n",
        "import numpy as np\n",
        "\n",
        "o = []\n",
        "pl = []\n",
        "y = []\n",
        "orc = sorted(glob(\"orchidaceae_train/**/*.*\", recursive=True))\n",
        "for fn in tqdm(orc, total=len(list(orc))):\n",
        "  bn =  os.path.basename(fn)\n",
        "  cat = cat_to_int[fn.split(\"/\")[-2]]\n",
        "  try:\n",
        "    pl_fn = valid_fn[bn]\n",
        "  except KeyError:\n",
        "    pass\n",
        "\n",
        "  img = image.load_img(fn, target_size=(224, 224))\n",
        "  x = image.img_to_array(img)\n",
        "  x = preprocess_input(x)\n",
        "  o.append(x)\n",
        "\n",
        "  img = image.load_img(pl_fn, target_size=(224, 224))\n",
        "  x = image.img_to_array(img)\n",
        "  x = preprocess_input(x)\n",
        "  pl.append(x)\n",
        "\n",
        "  one_hot = np.zeros((classes,), dtype='int')\n",
        "  one_hot[cat] = 1\n",
        "  y.append(one_hot)\n"
      ],
      "metadata": {
        "colab": {
          "base_uri": "https://localhost:8080/",
          "height": 49,
          "referenced_widgets": [
            "946f08195cf04cc7b2ea23aefc5437e7",
            "74cf890a3f4a4787b3e949770631e3f8",
            "854c3ad505564c03b5d533ef87502396",
            "e8f8d0e7c8a84b3fab3e1e1d9d2b1cb6",
            "2ae8cd18c13340928b91cda2c099ab3a",
            "548a2da97a9d4a349b118ce9e28541f2",
            "94d2548ab4324bb8a9dee68d3febb1cc",
            "8d145c69a72246bd9ab3253f2dd38f84",
            "9242a2a31b794c26a3b3d66ffebca8a9",
            "2b9263d47967464b9bfd0599e30a96ec",
            "cd081fb33c134ee8884a77b5f90aade9"
          ]
        },
        "id": "WSrv64441UyF",
        "outputId": "0fb72a99-4b07-4668-a1d3-29000cd45d4a"
      },
      "execution_count": 6,
      "outputs": [
        {
          "output_type": "display_data",
          "data": {
            "text/plain": [
              "  0%|          | 0/9419 [00:00<?, ?it/s]"
            ],
            "application/vnd.jupyter.widget-view+json": {
              "version_major": 2,
              "version_minor": 0,
              "model_id": "946f08195cf04cc7b2ea23aefc5437e7"
            }
          },
          "metadata": {}
        }
      ]
    },
    {
      "cell_type": "code",
      "source": [
        "import tensorflow_addons as tfa\n",
        "from tensorflow.keras.applications.resnet_v2 import ResNet50V2, preprocess_input\n",
        "from tensorflow.keras.preprocessing import image\n",
        "from tensorflow.keras.models import Model\n",
        "from tensorflow.keras.layers import Dense, Concatenate, Flatten, GlobalAveragePooling2D\n",
        "import numpy as np\n",
        "\n",
        "classes = 300\n",
        "\n",
        "orig_model = ResNet50V2(weights='imagenet', include_top=False)\n",
        "lg_model = ResNet50V2(weights='imagenet', include_top=False)\n",
        "\n",
        "for ln in [layer.name for layer in lg_model.layers]:\n",
        "    lg_model.get_layer(name=ln)._name = f\"lg_{ln}\"\n",
        "\n",
        "out = Concatenate()([orig_model.output, lg_model.output])\n",
        "out = GlobalAveragePooling2D()(out)\n",
        "out = Dense(512, activation='relu')(out)\n",
        "out = Dense(classes, activation='softmax', name='predictions')(out)\n",
        "\n",
        "model = Model(inputs=[orig_model.input, lg_model.input], outputs=out)\n",
        "opt = tfa.optimizers.AdaBelief(learning_rate=1e-3)\n",
        "model.compile(optimizer=opt, loss='categorical_crossentropy', metrics='accuracy')"
      ],
      "metadata": {
        "id": "zGj0PO3cYf6e",
        "colab": {
          "base_uri": "https://localhost:8080/"
        },
        "outputId": "25156d73-727c-4e90-8b84-cc57c1f95f2c"
      },
      "execution_count": 9,
      "outputs": [
        {
          "output_type": "stream",
          "name": "stdout",
          "text": [
            "Downloading data from https://storage.googleapis.com/tensorflow/keras-applications/resnet/resnet50v2_weights_tf_dim_ordering_tf_kernels_notop.h5\n",
            "94674944/94668760 [==============================] - 1s 0us/step\n",
            "94683136/94668760 [==============================] - 1s 0us/step\n"
          ]
        },
        {
          "output_type": "stream",
          "name": "stderr",
          "text": [
            "/usr/local/lib/python3.7/dist-packages/tensorflow_addons/optimizers/adabelief.py:129: UserWarning: The `lr` argument is deprecated, use `learning_rate` instead.\n",
            "  super().__init__(name, **kwargs)\n"
          ]
        }
      ]
    },
    {
      "cell_type": "code",
      "source": [
        "o = np.array(o)\n",
        "pl = np.array(pl)"
      ],
      "metadata": {
        "id": "as0cLI0B7fqt"
      },
      "execution_count": 10,
      "outputs": []
    },
    {
      "cell_type": "code",
      "source": [
        "y = np.array(y)"
      ],
      "metadata": {
        "id": "Y_t_nJxs7j-A"
      },
      "execution_count": 11,
      "outputs": []
    },
    {
      "cell_type": "code",
      "source": [
        "model.fit(x=[o, pl], y=y, batch_size=16, epochs=24)"
      ],
      "metadata": {
        "colab": {
          "base_uri": "https://localhost:8080/"
        },
        "id": "MOJ6qJWM4dx2",
        "outputId": "71bb1542-88d0-4925-ec40-14cc206c25dd"
      },
      "execution_count": 12,
      "outputs": [
        {
          "output_type": "stream",
          "name": "stdout",
          "text": [
            "Epoch 1/24\n",
            "589/589 [==============================] - 211s 245ms/step - loss: 4.4232 - accuracy: 0.1302\n",
            "Epoch 2/24\n",
            "589/589 [==============================] - 144s 245ms/step - loss: 2.9230 - accuracy: 0.3101\n",
            "Epoch 3/24\n",
            "589/589 [==============================] - 144s 245ms/step - loss: 2.1557 - accuracy: 0.4553\n",
            "Epoch 4/24\n",
            "589/589 [==============================] - 144s 244ms/step - loss: 1.6394 - accuracy: 0.5614\n",
            "Epoch 5/24\n",
            "589/589 [==============================] - 144s 244ms/step - loss: 1.2771 - accuracy: 0.6428\n",
            "Epoch 6/24\n",
            "589/589 [==============================] - 144s 244ms/step - loss: 0.9819 - accuracy: 0.7210\n",
            "Epoch 7/24\n",
            "589/589 [==============================] - 143s 243ms/step - loss: 0.7867 - accuracy: 0.7718\n",
            "Epoch 8/24\n",
            "589/589 [==============================] - 144s 244ms/step - loss: 0.6029 - accuracy: 0.8202\n",
            "Epoch 9/24\n",
            "589/589 [==============================] - 143s 243ms/step - loss: 0.5227 - accuracy: 0.8449\n",
            "Epoch 10/24\n",
            "589/589 [==============================] - 143s 243ms/step - loss: 0.4074 - accuracy: 0.8737\n",
            "Epoch 11/24\n",
            "589/589 [==============================] - 143s 243ms/step - loss: 0.3713 - accuracy: 0.8830\n",
            "Epoch 12/24\n",
            "589/589 [==============================] - 143s 243ms/step - loss: 0.3289 - accuracy: 0.9022\n",
            "Epoch 13/24\n",
            "589/589 [==============================] - 143s 243ms/step - loss: 0.2931 - accuracy: 0.9090\n",
            "Epoch 14/24\n",
            "589/589 [==============================] - 143s 243ms/step - loss: 0.2622 - accuracy: 0.9197\n",
            "Epoch 15/24\n",
            "589/589 [==============================] - 143s 242ms/step - loss: 0.2220 - accuracy: 0.9330\n",
            "Epoch 16/24\n",
            "589/589 [==============================] - 143s 242ms/step - loss: 0.2236 - accuracy: 0.9289\n",
            "Epoch 17/24\n",
            "589/589 [==============================] - 143s 242ms/step - loss: 0.1834 - accuracy: 0.9434\n",
            "Epoch 18/24\n",
            "589/589 [==============================] - 143s 242ms/step - loss: 0.1753 - accuracy: 0.9469\n",
            "Epoch 19/24\n",
            "589/589 [==============================] - 143s 242ms/step - loss: 0.2196 - accuracy: 0.9331\n",
            "Epoch 20/24\n",
            "589/589 [==============================] - 143s 242ms/step - loss: 0.1527 - accuracy: 0.9545\n",
            "Epoch 21/24\n",
            "589/589 [==============================] - 143s 242ms/step - loss: 0.1332 - accuracy: 0.9606\n",
            "Epoch 22/24\n",
            "589/589 [==============================] - 143s 242ms/step - loss: 0.1223 - accuracy: 0.9638\n",
            "Epoch 23/24\n",
            "589/589 [==============================] - 143s 242ms/step - loss: 0.1443 - accuracy: 0.9576\n",
            "Epoch 24/24\n",
            "589/589 [==============================] - 143s 242ms/step - loss: 0.1412 - accuracy: 0.9573\n"
          ]
        },
        {
          "output_type": "execute_result",
          "data": {
            "text/plain": [
              "<keras.callbacks.History at 0x7fc223d90950>"
            ]
          },
          "metadata": {},
          "execution_count": 12
        }
      ]
    },
    {
      "cell_type": "code",
      "source": [
        "model.save(\"/content/drive/MyDrive/UNC/H2022/DualNet2_adabelief\")"
      ],
      "metadata": {
        "id": "q9kfNRPh5Les",
        "colab": {
          "base_uri": "https://localhost:8080/"
        },
        "outputId": "6333b275-9a9a-4648-c76f-57a4ca9779b5"
      },
      "execution_count": 13,
      "outputs": [
        {
          "output_type": "stream",
          "name": "stdout",
          "text": [
            "INFO:tensorflow:Assets written to: /content/drive/MyDrive/UNC/H2022/DualNet2_adabelief/assets\n"
          ]
        }
      ]
    },
    {
      "cell_type": "code",
      "source": [
        ""
      ],
      "metadata": {
        "id": "TqE9xBuBKwHj"
      },
      "execution_count": null,
      "outputs": []
    }
  ],
  "metadata": {
    "accelerator": "GPU",
    "colab": {
      "collapsed_sections": [],
      "name": "H2022 GPU-DualNet",
      "provenance": [],
      "machine_shape": "hm",
      "mount_file_id": "14MtSAM5Oy0jZ9-UYJXjotqQ6xGZPkB4_",
      "authorship_tag": "ABX9TyPqFVaQiwTyBM+oN2VYdyGb",
      "include_colab_link": true
    },
    "kernelspec": {
      "display_name": "Python 3",
      "name": "python3"
    },
    "language_info": {
      "name": "python"
    },
    "gpuClass": "standard",
    "widgets": {
      "application/vnd.jupyter.widget-state+json": {
        "946f08195cf04cc7b2ea23aefc5437e7": {
          "model_module": "@jupyter-widgets/controls",
          "model_name": "HBoxModel",
          "model_module_version": "1.5.0",
          "state": {
            "_dom_classes": [],
            "_model_module": "@jupyter-widgets/controls",
            "_model_module_version": "1.5.0",
            "_model_name": "HBoxModel",
            "_view_count": null,
            "_view_module": "@jupyter-widgets/controls",
            "_view_module_version": "1.5.0",
            "_view_name": "HBoxView",
            "box_style": "",
            "children": [
              "IPY_MODEL_74cf890a3f4a4787b3e949770631e3f8",
              "IPY_MODEL_854c3ad505564c03b5d533ef87502396",
              "IPY_MODEL_e8f8d0e7c8a84b3fab3e1e1d9d2b1cb6"
            ],
            "layout": "IPY_MODEL_2ae8cd18c13340928b91cda2c099ab3a"
          }
        },
        "74cf890a3f4a4787b3e949770631e3f8": {
          "model_module": "@jupyter-widgets/controls",
          "model_name": "HTMLModel",
          "model_module_version": "1.5.0",
          "state": {
            "_dom_classes": [],
            "_model_module": "@jupyter-widgets/controls",
            "_model_module_version": "1.5.0",
            "_model_name": "HTMLModel",
            "_view_count": null,
            "_view_module": "@jupyter-widgets/controls",
            "_view_module_version": "1.5.0",
            "_view_name": "HTMLView",
            "description": "",
            "description_tooltip": null,
            "layout": "IPY_MODEL_548a2da97a9d4a349b118ce9e28541f2",
            "placeholder": "​",
            "style": "IPY_MODEL_94d2548ab4324bb8a9dee68d3febb1cc",
            "value": "100%"
          }
        },
        "854c3ad505564c03b5d533ef87502396": {
          "model_module": "@jupyter-widgets/controls",
          "model_name": "FloatProgressModel",
          "model_module_version": "1.5.0",
          "state": {
            "_dom_classes": [],
            "_model_module": "@jupyter-widgets/controls",
            "_model_module_version": "1.5.0",
            "_model_name": "FloatProgressModel",
            "_view_count": null,
            "_view_module": "@jupyter-widgets/controls",
            "_view_module_version": "1.5.0",
            "_view_name": "ProgressView",
            "bar_style": "success",
            "description": "",
            "description_tooltip": null,
            "layout": "IPY_MODEL_8d145c69a72246bd9ab3253f2dd38f84",
            "max": 9419,
            "min": 0,
            "orientation": "horizontal",
            "style": "IPY_MODEL_9242a2a31b794c26a3b3d66ffebca8a9",
            "value": 9419
          }
        },
        "e8f8d0e7c8a84b3fab3e1e1d9d2b1cb6": {
          "model_module": "@jupyter-widgets/controls",
          "model_name": "HTMLModel",
          "model_module_version": "1.5.0",
          "state": {
            "_dom_classes": [],
            "_model_module": "@jupyter-widgets/controls",
            "_model_module_version": "1.5.0",
            "_model_name": "HTMLModel",
            "_view_count": null,
            "_view_module": "@jupyter-widgets/controls",
            "_view_module_version": "1.5.0",
            "_view_name": "HTMLView",
            "description": "",
            "description_tooltip": null,
            "layout": "IPY_MODEL_2b9263d47967464b9bfd0599e30a96ec",
            "placeholder": "​",
            "style": "IPY_MODEL_cd081fb33c134ee8884a77b5f90aade9",
            "value": " 9419/9419 [01:43&lt;00:00, 92.48it/s]"
          }
        },
        "2ae8cd18c13340928b91cda2c099ab3a": {
          "model_module": "@jupyter-widgets/base",
          "model_name": "LayoutModel",
          "model_module_version": "1.2.0",
          "state": {
            "_model_module": "@jupyter-widgets/base",
            "_model_module_version": "1.2.0",
            "_model_name": "LayoutModel",
            "_view_count": null,
            "_view_module": "@jupyter-widgets/base",
            "_view_module_version": "1.2.0",
            "_view_name": "LayoutView",
            "align_content": null,
            "align_items": null,
            "align_self": null,
            "border": null,
            "bottom": null,
            "display": null,
            "flex": null,
            "flex_flow": null,
            "grid_area": null,
            "grid_auto_columns": null,
            "grid_auto_flow": null,
            "grid_auto_rows": null,
            "grid_column": null,
            "grid_gap": null,
            "grid_row": null,
            "grid_template_areas": null,
            "grid_template_columns": null,
            "grid_template_rows": null,
            "height": null,
            "justify_content": null,
            "justify_items": null,
            "left": null,
            "margin": null,
            "max_height": null,
            "max_width": null,
            "min_height": null,
            "min_width": null,
            "object_fit": null,
            "object_position": null,
            "order": null,
            "overflow": null,
            "overflow_x": null,
            "overflow_y": null,
            "padding": null,
            "right": null,
            "top": null,
            "visibility": null,
            "width": null
          }
        },
        "548a2da97a9d4a349b118ce9e28541f2": {
          "model_module": "@jupyter-widgets/base",
          "model_name": "LayoutModel",
          "model_module_version": "1.2.0",
          "state": {
            "_model_module": "@jupyter-widgets/base",
            "_model_module_version": "1.2.0",
            "_model_name": "LayoutModel",
            "_view_count": null,
            "_view_module": "@jupyter-widgets/base",
            "_view_module_version": "1.2.0",
            "_view_name": "LayoutView",
            "align_content": null,
            "align_items": null,
            "align_self": null,
            "border": null,
            "bottom": null,
            "display": null,
            "flex": null,
            "flex_flow": null,
            "grid_area": null,
            "grid_auto_columns": null,
            "grid_auto_flow": null,
            "grid_auto_rows": null,
            "grid_column": null,
            "grid_gap": null,
            "grid_row": null,
            "grid_template_areas": null,
            "grid_template_columns": null,
            "grid_template_rows": null,
            "height": null,
            "justify_content": null,
            "justify_items": null,
            "left": null,
            "margin": null,
            "max_height": null,
            "max_width": null,
            "min_height": null,
            "min_width": null,
            "object_fit": null,
            "object_position": null,
            "order": null,
            "overflow": null,
            "overflow_x": null,
            "overflow_y": null,
            "padding": null,
            "right": null,
            "top": null,
            "visibility": null,
            "width": null
          }
        },
        "94d2548ab4324bb8a9dee68d3febb1cc": {
          "model_module": "@jupyter-widgets/controls",
          "model_name": "DescriptionStyleModel",
          "model_module_version": "1.5.0",
          "state": {
            "_model_module": "@jupyter-widgets/controls",
            "_model_module_version": "1.5.0",
            "_model_name": "DescriptionStyleModel",
            "_view_count": null,
            "_view_module": "@jupyter-widgets/base",
            "_view_module_version": "1.2.0",
            "_view_name": "StyleView",
            "description_width": ""
          }
        },
        "8d145c69a72246bd9ab3253f2dd38f84": {
          "model_module": "@jupyter-widgets/base",
          "model_name": "LayoutModel",
          "model_module_version": "1.2.0",
          "state": {
            "_model_module": "@jupyter-widgets/base",
            "_model_module_version": "1.2.0",
            "_model_name": "LayoutModel",
            "_view_count": null,
            "_view_module": "@jupyter-widgets/base",
            "_view_module_version": "1.2.0",
            "_view_name": "LayoutView",
            "align_content": null,
            "align_items": null,
            "align_self": null,
            "border": null,
            "bottom": null,
            "display": null,
            "flex": null,
            "flex_flow": null,
            "grid_area": null,
            "grid_auto_columns": null,
            "grid_auto_flow": null,
            "grid_auto_rows": null,
            "grid_column": null,
            "grid_gap": null,
            "grid_row": null,
            "grid_template_areas": null,
            "grid_template_columns": null,
            "grid_template_rows": null,
            "height": null,
            "justify_content": null,
            "justify_items": null,
            "left": null,
            "margin": null,
            "max_height": null,
            "max_width": null,
            "min_height": null,
            "min_width": null,
            "object_fit": null,
            "object_position": null,
            "order": null,
            "overflow": null,
            "overflow_x": null,
            "overflow_y": null,
            "padding": null,
            "right": null,
            "top": null,
            "visibility": null,
            "width": null
          }
        },
        "9242a2a31b794c26a3b3d66ffebca8a9": {
          "model_module": "@jupyter-widgets/controls",
          "model_name": "ProgressStyleModel",
          "model_module_version": "1.5.0",
          "state": {
            "_model_module": "@jupyter-widgets/controls",
            "_model_module_version": "1.5.0",
            "_model_name": "ProgressStyleModel",
            "_view_count": null,
            "_view_module": "@jupyter-widgets/base",
            "_view_module_version": "1.2.0",
            "_view_name": "StyleView",
            "bar_color": null,
            "description_width": ""
          }
        },
        "2b9263d47967464b9bfd0599e30a96ec": {
          "model_module": "@jupyter-widgets/base",
          "model_name": "LayoutModel",
          "model_module_version": "1.2.0",
          "state": {
            "_model_module": "@jupyter-widgets/base",
            "_model_module_version": "1.2.0",
            "_model_name": "LayoutModel",
            "_view_count": null,
            "_view_module": "@jupyter-widgets/base",
            "_view_module_version": "1.2.0",
            "_view_name": "LayoutView",
            "align_content": null,
            "align_items": null,
            "align_self": null,
            "border": null,
            "bottom": null,
            "display": null,
            "flex": null,
            "flex_flow": null,
            "grid_area": null,
            "grid_auto_columns": null,
            "grid_auto_flow": null,
            "grid_auto_rows": null,
            "grid_column": null,
            "grid_gap": null,
            "grid_row": null,
            "grid_template_areas": null,
            "grid_template_columns": null,
            "grid_template_rows": null,
            "height": null,
            "justify_content": null,
            "justify_items": null,
            "left": null,
            "margin": null,
            "max_height": null,
            "max_width": null,
            "min_height": null,
            "min_width": null,
            "object_fit": null,
            "object_position": null,
            "order": null,
            "overflow": null,
            "overflow_x": null,
            "overflow_y": null,
            "padding": null,
            "right": null,
            "top": null,
            "visibility": null,
            "width": null
          }
        },
        "cd081fb33c134ee8884a77b5f90aade9": {
          "model_module": "@jupyter-widgets/controls",
          "model_name": "DescriptionStyleModel",
          "model_module_version": "1.5.0",
          "state": {
            "_model_module": "@jupyter-widgets/controls",
            "_model_module_version": "1.5.0",
            "_model_name": "DescriptionStyleModel",
            "_view_count": null,
            "_view_module": "@jupyter-widgets/base",
            "_view_module_version": "1.2.0",
            "_view_name": "StyleView",
            "description_width": ""
          }
        }
      }
    }
  },
  "nbformat": 4,
  "nbformat_minor": 0
}