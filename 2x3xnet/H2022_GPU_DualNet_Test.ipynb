{
  "nbformat": 4,
  "nbformat_minor": 0,
  "metadata": {
    "colab": {
      "name": "H2022 GPU-DualNet-Test",
      "provenance": [],
      "mount_file_id": "1kx9V1zphpyMfi_w3y-VYZeDXM8flc-xk",
      "authorship_tag": "ABX9TyPa1ps4By8GbgIcLl7uCmJI",
      "include_colab_link": true
    },
    "kernelspec": {
      "name": "python3",
      "display_name": "Python 3"
    },
    "language_info": {
      "name": "python"
    },
    "accelerator": "GPU",
    "gpuClass": "standard",
    "widgets": {
      "application/vnd.jupyter.widget-state+json": {
        "0642560727d64978a38f6012833f52c5": {
          "model_module": "@jupyter-widgets/controls",
          "model_name": "HBoxModel",
          "model_module_version": "1.5.0",
          "state": {
            "_dom_classes": [],
            "_model_module": "@jupyter-widgets/controls",
            "_model_module_version": "1.5.0",
            "_model_name": "HBoxModel",
            "_view_count": null,
            "_view_module": "@jupyter-widgets/controls",
            "_view_module_version": "1.5.0",
            "_view_name": "HBoxView",
            "box_style": "",
            "children": [
              "IPY_MODEL_32a40ead85354d538b29d3f5bdfc3347",
              "IPY_MODEL_d3ca849937314137b7b056e00d8f097a",
              "IPY_MODEL_e8715997d3354798b889c955fe84f96e"
            ],
            "layout": "IPY_MODEL_32f21917cdd8409283939c50fdf59502"
          }
        },
        "32a40ead85354d538b29d3f5bdfc3347": {
          "model_module": "@jupyter-widgets/controls",
          "model_name": "HTMLModel",
          "model_module_version": "1.5.0",
          "state": {
            "_dom_classes": [],
            "_model_module": "@jupyter-widgets/controls",
            "_model_module_version": "1.5.0",
            "_model_name": "HTMLModel",
            "_view_count": null,
            "_view_module": "@jupyter-widgets/controls",
            "_view_module_version": "1.5.0",
            "_view_name": "HTMLView",
            "description": "",
            "description_tooltip": null,
            "layout": "IPY_MODEL_f169abf18ccf461087b9ea070c844f7f",
            "placeholder": "​",
            "style": "IPY_MODEL_b29fde175d7b4f9785063dc3fbfa3a37",
            "value": "100%"
          }
        },
        "d3ca849937314137b7b056e00d8f097a": {
          "model_module": "@jupyter-widgets/controls",
          "model_name": "FloatProgressModel",
          "model_module_version": "1.5.0",
          "state": {
            "_dom_classes": [],
            "_model_module": "@jupyter-widgets/controls",
            "_model_module_version": "1.5.0",
            "_model_name": "FloatProgressModel",
            "_view_count": null,
            "_view_module": "@jupyter-widgets/controls",
            "_view_module_version": "1.5.0",
            "_view_name": "ProgressView",
            "bar_style": "success",
            "description": "",
            "description_tooltip": null,
            "layout": "IPY_MODEL_8fabc170f57b494289d563270d3fda50",
            "max": 4577,
            "min": 0,
            "orientation": "horizontal",
            "style": "IPY_MODEL_026e85d9a61e45f5b0df541791ac5503",
            "value": 4577
          }
        },
        "e8715997d3354798b889c955fe84f96e": {
          "model_module": "@jupyter-widgets/controls",
          "model_name": "HTMLModel",
          "model_module_version": "1.5.0",
          "state": {
            "_dom_classes": [],
            "_model_module": "@jupyter-widgets/controls",
            "_model_module_version": "1.5.0",
            "_model_name": "HTMLModel",
            "_view_count": null,
            "_view_module": "@jupyter-widgets/controls",
            "_view_module_version": "1.5.0",
            "_view_name": "HTMLView",
            "description": "",
            "description_tooltip": null,
            "layout": "IPY_MODEL_5adc65ebbe5f47bebffa30fd9b4f1b63",
            "placeholder": "​",
            "style": "IPY_MODEL_68d74199efc94ee39b16bb7e8316dd42",
            "value": " 4577/4577 [00:58&lt;00:00, 74.61it/s]"
          }
        },
        "32f21917cdd8409283939c50fdf59502": {
          "model_module": "@jupyter-widgets/base",
          "model_name": "LayoutModel",
          "model_module_version": "1.2.0",
          "state": {
            "_model_module": "@jupyter-widgets/base",
            "_model_module_version": "1.2.0",
            "_model_name": "LayoutModel",
            "_view_count": null,
            "_view_module": "@jupyter-widgets/base",
            "_view_module_version": "1.2.0",
            "_view_name": "LayoutView",
            "align_content": null,
            "align_items": null,
            "align_self": null,
            "border": null,
            "bottom": null,
            "display": null,
            "flex": null,
            "flex_flow": null,
            "grid_area": null,
            "grid_auto_columns": null,
            "grid_auto_flow": null,
            "grid_auto_rows": null,
            "grid_column": null,
            "grid_gap": null,
            "grid_row": null,
            "grid_template_areas": null,
            "grid_template_columns": null,
            "grid_template_rows": null,
            "height": null,
            "justify_content": null,
            "justify_items": null,
            "left": null,
            "margin": null,
            "max_height": null,
            "max_width": null,
            "min_height": null,
            "min_width": null,
            "object_fit": null,
            "object_position": null,
            "order": null,
            "overflow": null,
            "overflow_x": null,
            "overflow_y": null,
            "padding": null,
            "right": null,
            "top": null,
            "visibility": null,
            "width": null
          }
        },
        "f169abf18ccf461087b9ea070c844f7f": {
          "model_module": "@jupyter-widgets/base",
          "model_name": "LayoutModel",
          "model_module_version": "1.2.0",
          "state": {
            "_model_module": "@jupyter-widgets/base",
            "_model_module_version": "1.2.0",
            "_model_name": "LayoutModel",
            "_view_count": null,
            "_view_module": "@jupyter-widgets/base",
            "_view_module_version": "1.2.0",
            "_view_name": "LayoutView",
            "align_content": null,
            "align_items": null,
            "align_self": null,
            "border": null,
            "bottom": null,
            "display": null,
            "flex": null,
            "flex_flow": null,
            "grid_area": null,
            "grid_auto_columns": null,
            "grid_auto_flow": null,
            "grid_auto_rows": null,
            "grid_column": null,
            "grid_gap": null,
            "grid_row": null,
            "grid_template_areas": null,
            "grid_template_columns": null,
            "grid_template_rows": null,
            "height": null,
            "justify_content": null,
            "justify_items": null,
            "left": null,
            "margin": null,
            "max_height": null,
            "max_width": null,
            "min_height": null,
            "min_width": null,
            "object_fit": null,
            "object_position": null,
            "order": null,
            "overflow": null,
            "overflow_x": null,
            "overflow_y": null,
            "padding": null,
            "right": null,
            "top": null,
            "visibility": null,
            "width": null
          }
        },
        "b29fde175d7b4f9785063dc3fbfa3a37": {
          "model_module": "@jupyter-widgets/controls",
          "model_name": "DescriptionStyleModel",
          "model_module_version": "1.5.0",
          "state": {
            "_model_module": "@jupyter-widgets/controls",
            "_model_module_version": "1.5.0",
            "_model_name": "DescriptionStyleModel",
            "_view_count": null,
            "_view_module": "@jupyter-widgets/base",
            "_view_module_version": "1.2.0",
            "_view_name": "StyleView",
            "description_width": ""
          }
        },
        "8fabc170f57b494289d563270d3fda50": {
          "model_module": "@jupyter-widgets/base",
          "model_name": "LayoutModel",
          "model_module_version": "1.2.0",
          "state": {
            "_model_module": "@jupyter-widgets/base",
            "_model_module_version": "1.2.0",
            "_model_name": "LayoutModel",
            "_view_count": null,
            "_view_module": "@jupyter-widgets/base",
            "_view_module_version": "1.2.0",
            "_view_name": "LayoutView",
            "align_content": null,
            "align_items": null,
            "align_self": null,
            "border": null,
            "bottom": null,
            "display": null,
            "flex": null,
            "flex_flow": null,
            "grid_area": null,
            "grid_auto_columns": null,
            "grid_auto_flow": null,
            "grid_auto_rows": null,
            "grid_column": null,
            "grid_gap": null,
            "grid_row": null,
            "grid_template_areas": null,
            "grid_template_columns": null,
            "grid_template_rows": null,
            "height": null,
            "justify_content": null,
            "justify_items": null,
            "left": null,
            "margin": null,
            "max_height": null,
            "max_width": null,
            "min_height": null,
            "min_width": null,
            "object_fit": null,
            "object_position": null,
            "order": null,
            "overflow": null,
            "overflow_x": null,
            "overflow_y": null,
            "padding": null,
            "right": null,
            "top": null,
            "visibility": null,
            "width": null
          }
        },
        "026e85d9a61e45f5b0df541791ac5503": {
          "model_module": "@jupyter-widgets/controls",
          "model_name": "ProgressStyleModel",
          "model_module_version": "1.5.0",
          "state": {
            "_model_module": "@jupyter-widgets/controls",
            "_model_module_version": "1.5.0",
            "_model_name": "ProgressStyleModel",
            "_view_count": null,
            "_view_module": "@jupyter-widgets/base",
            "_view_module_version": "1.2.0",
            "_view_name": "StyleView",
            "bar_color": null,
            "description_width": ""
          }
        },
        "5adc65ebbe5f47bebffa30fd9b4f1b63": {
          "model_module": "@jupyter-widgets/base",
          "model_name": "LayoutModel",
          "model_module_version": "1.2.0",
          "state": {
            "_model_module": "@jupyter-widgets/base",
            "_model_module_version": "1.2.0",
            "_model_name": "LayoutModel",
            "_view_count": null,
            "_view_module": "@jupyter-widgets/base",
            "_view_module_version": "1.2.0",
            "_view_name": "LayoutView",
            "align_content": null,
            "align_items": null,
            "align_self": null,
            "border": null,
            "bottom": null,
            "display": null,
            "flex": null,
            "flex_flow": null,
            "grid_area": null,
            "grid_auto_columns": null,
            "grid_auto_flow": null,
            "grid_auto_rows": null,
            "grid_column": null,
            "grid_gap": null,
            "grid_row": null,
            "grid_template_areas": null,
            "grid_template_columns": null,
            "grid_template_rows": null,
            "height": null,
            "justify_content": null,
            "justify_items": null,
            "left": null,
            "margin": null,
            "max_height": null,
            "max_width": null,
            "min_height": null,
            "min_width": null,
            "object_fit": null,
            "object_position": null,
            "order": null,
            "overflow": null,
            "overflow_x": null,
            "overflow_y": null,
            "padding": null,
            "right": null,
            "top": null,
            "visibility": null,
            "width": null
          }
        },
        "68d74199efc94ee39b16bb7e8316dd42": {
          "model_module": "@jupyter-widgets/controls",
          "model_name": "DescriptionStyleModel",
          "model_module_version": "1.5.0",
          "state": {
            "_model_module": "@jupyter-widgets/controls",
            "_model_module_version": "1.5.0",
            "_model_name": "DescriptionStyleModel",
            "_view_count": null,
            "_view_module": "@jupyter-widgets/base",
            "_view_module_version": "1.2.0",
            "_view_name": "StyleView",
            "description_width": ""
          }
        },
        "3cc6a509a47a4c2387d8ce9858384c5c": {
          "model_module": "@jupyter-widgets/controls",
          "model_name": "HBoxModel",
          "model_module_version": "1.5.0",
          "state": {
            "_dom_classes": [],
            "_model_module": "@jupyter-widgets/controls",
            "_model_module_version": "1.5.0",
            "_model_name": "HBoxModel",
            "_view_count": null,
            "_view_module": "@jupyter-widgets/controls",
            "_view_module_version": "1.5.0",
            "_view_name": "HBoxView",
            "box_style": "",
            "children": [
              "IPY_MODEL_6766fcf6109d4a5d9db73d746d93392d",
              "IPY_MODEL_e9799d726e834cf981cbdd91677a4a21",
              "IPY_MODEL_bd255cedb7bd4738b9c16e8d5e63aac3"
            ],
            "layout": "IPY_MODEL_9214d585a9c1432da48f6b63c1d2b972"
          }
        },
        "6766fcf6109d4a5d9db73d746d93392d": {
          "model_module": "@jupyter-widgets/controls",
          "model_name": "HTMLModel",
          "model_module_version": "1.5.0",
          "state": {
            "_dom_classes": [],
            "_model_module": "@jupyter-widgets/controls",
            "_model_module_version": "1.5.0",
            "_model_name": "HTMLModel",
            "_view_count": null,
            "_view_module": "@jupyter-widgets/controls",
            "_view_module_version": "1.5.0",
            "_view_name": "HTMLView",
            "description": "",
            "description_tooltip": null,
            "layout": "IPY_MODEL_335e4e1fb49d4474b418a03c3c97ff57",
            "placeholder": "​",
            "style": "IPY_MODEL_299c0ace07bc45bdba4276acaf8cba73",
            "value": "100%"
          }
        },
        "e9799d726e834cf981cbdd91677a4a21": {
          "model_module": "@jupyter-widgets/controls",
          "model_name": "FloatProgressModel",
          "model_module_version": "1.5.0",
          "state": {
            "_dom_classes": [],
            "_model_module": "@jupyter-widgets/controls",
            "_model_module_version": "1.5.0",
            "_model_name": "FloatProgressModel",
            "_view_count": null,
            "_view_module": "@jupyter-widgets/controls",
            "_view_module_version": "1.5.0",
            "_view_name": "ProgressView",
            "bar_style": "success",
            "description": "",
            "description_tooltip": null,
            "layout": "IPY_MODEL_07ce685dcc3c41e0a4eb20d59b6816c4",
            "max": 4577,
            "min": 0,
            "orientation": "horizontal",
            "style": "IPY_MODEL_121a02a3e3704446816b03db182ffc1c",
            "value": 4577
          }
        },
        "bd255cedb7bd4738b9c16e8d5e63aac3": {
          "model_module": "@jupyter-widgets/controls",
          "model_name": "HTMLModel",
          "model_module_version": "1.5.0",
          "state": {
            "_dom_classes": [],
            "_model_module": "@jupyter-widgets/controls",
            "_model_module_version": "1.5.0",
            "_model_name": "HTMLModel",
            "_view_count": null,
            "_view_module": "@jupyter-widgets/controls",
            "_view_module_version": "1.5.0",
            "_view_name": "HTMLView",
            "description": "",
            "description_tooltip": null,
            "layout": "IPY_MODEL_34802b933a7a4433871d8e7affce0efa",
            "placeholder": "​",
            "style": "IPY_MODEL_d0e81eb8581e453dab6506fc6c8328cc",
            "value": " 4577/4577 [10:07&lt;00:00,  7.69it/s]"
          }
        },
        "9214d585a9c1432da48f6b63c1d2b972": {
          "model_module": "@jupyter-widgets/base",
          "model_name": "LayoutModel",
          "model_module_version": "1.2.0",
          "state": {
            "_model_module": "@jupyter-widgets/base",
            "_model_module_version": "1.2.0",
            "_model_name": "LayoutModel",
            "_view_count": null,
            "_view_module": "@jupyter-widgets/base",
            "_view_module_version": "1.2.0",
            "_view_name": "LayoutView",
            "align_content": null,
            "align_items": null,
            "align_self": null,
            "border": null,
            "bottom": null,
            "display": null,
            "flex": null,
            "flex_flow": null,
            "grid_area": null,
            "grid_auto_columns": null,
            "grid_auto_flow": null,
            "grid_auto_rows": null,
            "grid_column": null,
            "grid_gap": null,
            "grid_row": null,
            "grid_template_areas": null,
            "grid_template_columns": null,
            "grid_template_rows": null,
            "height": null,
            "justify_content": null,
            "justify_items": null,
            "left": null,
            "margin": null,
            "max_height": null,
            "max_width": null,
            "min_height": null,
            "min_width": null,
            "object_fit": null,
            "object_position": null,
            "order": null,
            "overflow": null,
            "overflow_x": null,
            "overflow_y": null,
            "padding": null,
            "right": null,
            "top": null,
            "visibility": null,
            "width": null
          }
        },
        "335e4e1fb49d4474b418a03c3c97ff57": {
          "model_module": "@jupyter-widgets/base",
          "model_name": "LayoutModel",
          "model_module_version": "1.2.0",
          "state": {
            "_model_module": "@jupyter-widgets/base",
            "_model_module_version": "1.2.0",
            "_model_name": "LayoutModel",
            "_view_count": null,
            "_view_module": "@jupyter-widgets/base",
            "_view_module_version": "1.2.0",
            "_view_name": "LayoutView",
            "align_content": null,
            "align_items": null,
            "align_self": null,
            "border": null,
            "bottom": null,
            "display": null,
            "flex": null,
            "flex_flow": null,
            "grid_area": null,
            "grid_auto_columns": null,
            "grid_auto_flow": null,
            "grid_auto_rows": null,
            "grid_column": null,
            "grid_gap": null,
            "grid_row": null,
            "grid_template_areas": null,
            "grid_template_columns": null,
            "grid_template_rows": null,
            "height": null,
            "justify_content": null,
            "justify_items": null,
            "left": null,
            "margin": null,
            "max_height": null,
            "max_width": null,
            "min_height": null,
            "min_width": null,
            "object_fit": null,
            "object_position": null,
            "order": null,
            "overflow": null,
            "overflow_x": null,
            "overflow_y": null,
            "padding": null,
            "right": null,
            "top": null,
            "visibility": null,
            "width": null
          }
        },
        "299c0ace07bc45bdba4276acaf8cba73": {
          "model_module": "@jupyter-widgets/controls",
          "model_name": "DescriptionStyleModel",
          "model_module_version": "1.5.0",
          "state": {
            "_model_module": "@jupyter-widgets/controls",
            "_model_module_version": "1.5.0",
            "_model_name": "DescriptionStyleModel",
            "_view_count": null,
            "_view_module": "@jupyter-widgets/base",
            "_view_module_version": "1.2.0",
            "_view_name": "StyleView",
            "description_width": ""
          }
        },
        "07ce685dcc3c41e0a4eb20d59b6816c4": {
          "model_module": "@jupyter-widgets/base",
          "model_name": "LayoutModel",
          "model_module_version": "1.2.0",
          "state": {
            "_model_module": "@jupyter-widgets/base",
            "_model_module_version": "1.2.0",
            "_model_name": "LayoutModel",
            "_view_count": null,
            "_view_module": "@jupyter-widgets/base",
            "_view_module_version": "1.2.0",
            "_view_name": "LayoutView",
            "align_content": null,
            "align_items": null,
            "align_self": null,
            "border": null,
            "bottom": null,
            "display": null,
            "flex": null,
            "flex_flow": null,
            "grid_area": null,
            "grid_auto_columns": null,
            "grid_auto_flow": null,
            "grid_auto_rows": null,
            "grid_column": null,
            "grid_gap": null,
            "grid_row": null,
            "grid_template_areas": null,
            "grid_template_columns": null,
            "grid_template_rows": null,
            "height": null,
            "justify_content": null,
            "justify_items": null,
            "left": null,
            "margin": null,
            "max_height": null,
            "max_width": null,
            "min_height": null,
            "min_width": null,
            "object_fit": null,
            "object_position": null,
            "order": null,
            "overflow": null,
            "overflow_x": null,
            "overflow_y": null,
            "padding": null,
            "right": null,
            "top": null,
            "visibility": null,
            "width": null
          }
        },
        "121a02a3e3704446816b03db182ffc1c": {
          "model_module": "@jupyter-widgets/controls",
          "model_name": "ProgressStyleModel",
          "model_module_version": "1.5.0",
          "state": {
            "_model_module": "@jupyter-widgets/controls",
            "_model_module_version": "1.5.0",
            "_model_name": "ProgressStyleModel",
            "_view_count": null,
            "_view_module": "@jupyter-widgets/base",
            "_view_module_version": "1.2.0",
            "_view_name": "StyleView",
            "bar_color": null,
            "description_width": ""
          }
        },
        "34802b933a7a4433871d8e7affce0efa": {
          "model_module": "@jupyter-widgets/base",
          "model_name": "LayoutModel",
          "model_module_version": "1.2.0",
          "state": {
            "_model_module": "@jupyter-widgets/base",
            "_model_module_version": "1.2.0",
            "_model_name": "LayoutModel",
            "_view_count": null,
            "_view_module": "@jupyter-widgets/base",
            "_view_module_version": "1.2.0",
            "_view_name": "LayoutView",
            "align_content": null,
            "align_items": null,
            "align_self": null,
            "border": null,
            "bottom": null,
            "display": null,
            "flex": null,
            "flex_flow": null,
            "grid_area": null,
            "grid_auto_columns": null,
            "grid_auto_flow": null,
            "grid_auto_rows": null,
            "grid_column": null,
            "grid_gap": null,
            "grid_row": null,
            "grid_template_areas": null,
            "grid_template_columns": null,
            "grid_template_rows": null,
            "height": null,
            "justify_content": null,
            "justify_items": null,
            "left": null,
            "margin": null,
            "max_height": null,
            "max_width": null,
            "min_height": null,
            "min_width": null,
            "object_fit": null,
            "object_position": null,
            "order": null,
            "overflow": null,
            "overflow_x": null,
            "overflow_y": null,
            "padding": null,
            "right": null,
            "top": null,
            "visibility": null,
            "width": null
          }
        },
        "d0e81eb8581e453dab6506fc6c8328cc": {
          "model_module": "@jupyter-widgets/controls",
          "model_name": "DescriptionStyleModel",
          "model_module_version": "1.5.0",
          "state": {
            "_model_module": "@jupyter-widgets/controls",
            "_model_module_version": "1.5.0",
            "_model_name": "DescriptionStyleModel",
            "_view_count": null,
            "_view_module": "@jupyter-widgets/base",
            "_view_module_version": "1.2.0",
            "_view_name": "StyleView",
            "description_width": ""
          }
        }
      }
    }
  },
  "cells": [
    {
      "cell_type": "markdown",
      "metadata": {
        "id": "view-in-github",
        "colab_type": "text"
      },
      "source": [
        "<a href=\"https://colab.research.google.com/github/dakilaledesma/herbarium_model_testing/blob/main/2x3xnet/H2022_GPU_DualNet_Test.ipynb\" target=\"_parent\"><img src=\"https://colab.research.google.com/assets/colab-badge.svg\" alt=\"Open In Colab\"/></a>"
      ]
    },
    {
      "cell_type": "code",
      "execution_count": null,
      "metadata": {
        "id": "rGycAYkn216I"
      },
      "outputs": [],
      "source": [
        "! unzip -q /content/drive/MyDrive/UNC/H2022/RCNN_PP/pls224p56_Orchidaceae_test.zip -d /content/\n",
        "! unzip -q /content/drive/MyDrive/UNC/H2022/orchidaceae_test.zip -d /content/"
      ]
    },
    {
      "cell_type": "code",
      "source": [
        "from tensorflow.keras.applications.resnet_v2 import ResNet50V2, preprocess_input\n",
        "from tensorflow.keras.preprocessing import image\n",
        "from tqdm.notebook import tqdm\n",
        "import numpy as np\n",
        "from tensorflow.keras.models import Model, load_model\n"
      ],
      "metadata": {
        "id": "ka38nCKP3GW7"
      },
      "execution_count": null,
      "outputs": []
    },
    {
      "cell_type": "code",
      "source": [
        "model = load_model(\"/content/drive/MyDrive/UNC/H2022/DualNet1\")"
      ],
      "metadata": {
        "id": "9c6lxqjb3PTl"
      },
      "execution_count": null,
      "outputs": []
    },
    {
      "cell_type": "code",
      "source": [
        "from glob import glob\n",
        "import os\n",
        "cat_to_int = {}\n",
        "for i, f in enumerate(sorted(glob(\"pls224p56_Orchidaceae_test/*\"))):\n",
        "  cat = os.path.basename(f)\n",
        "  cat_to_int[cat] = i"
      ],
      "metadata": {
        "id": "OA7u5Wmf3Fkr"
      },
      "execution_count": null,
      "outputs": []
    },
    {
      "cell_type": "code",
      "source": [
        "print(cat_to_int.items())"
      ],
      "metadata": {
        "colab": {
          "base_uri": "https://localhost:8080/"
        },
        "id": "7ZOSo4483sgW",
        "outputId": "8a786ced-c129-4d94-8f15-ab0972a85d22"
      },
      "execution_count": null,
      "outputs": [
        {
          "output_type": "stream",
          "name": "stdout",
          "text": [
            "dict_items([('00098', 0), ('00099', 1), ('00100', 2), ('00915', 3), ('01032', 4), ('01306', 5), ('01819', 6), ('01854', 7), ('01963', 8), ('01964', 9), ('02127', 10), ('02133', 11), ('02134', 12), ('02135', 13), ('02136', 14), ('02137', 15), ('02138', 16), ('02246', 17), ('02247', 18), ('02394', 19), ('02395', 20), ('02396', 21), ('02397', 22), ('02398', 23), ('02417', 24), ('02470', 25), ('02471', 26), ('02472', 27), ('02473', 28), ('02474', 29), ('03139', 30), ('03140', 31), ('03141', 32), ('03142', 33), ('03143', 34), ('03144', 35), ('03145', 36), ('03155', 37), ('03156', 38), ('03157', 39), ('03158', 40), ('03159', 41), ('03160', 42), ('03161', 43), ('03162', 44), ('03163', 45), ('03258', 46), ('03658', 47), ('03766', 48), ('03775', 49), ('03776', 50), ('03852', 51), ('03889', 52), ('03890', 53), ('03891', 54), ('03892', 55), ('03893', 56), ('03894', 57), ('03984', 58), ('03994', 59), ('04019', 60), ('04020', 61), ('04326', 62), ('04327', 63), ('04329', 64), ('04490', 65), ('04491', 66), ('04492', 67), ('04493', 68), ('04494', 69), ('04495', 70), ('04496', 71), ('04497', 72), ('04498', 73), ('04499', 74), ('04500', 75), ('04502', 76), ('04503', 77), ('04512', 78), ('04690', 79), ('04691', 80), ('04785', 81), ('04786', 82), ('04839', 83), ('04840', 84), ('04880', 85), ('04881', 86), ('04970', 87), ('05308', 88), ('05309', 89), ('05318', 90), ('05361', 91), ('05362', 92), ('05388', 93), ('05389', 94), ('05390', 95), ('05391', 96), ('05392', 97), ('05393', 98), ('05394', 99), ('05395', 100), ('05396', 101), ('05397', 102), ('05398', 103), ('05399', 104), ('05400', 105), ('05401', 106), ('05402', 107), ('05403', 108), ('05404', 109), ('05405', 110), ('05437', 111), ('06116', 112), ('06117', 113), ('06551', 114), ('06552', 115), ('06553', 116), ('06816', 117), ('06824', 118), ('06832', 119), ('06833', 120), ('06834', 121), ('06835', 122), ('06843', 123), ('06893', 124), ('06894', 125), ('06937', 126), ('06938', 127), ('06939', 128), ('06940', 129), ('06941', 130), ('06942', 131), ('06943', 132), ('06944', 133), ('06945', 134), ('06991', 135), ('07665', 136), ('07777', 137), ('07783', 138), ('07811', 139), ('07812', 140), ('07843', 141), ('07844', 142), ('07845', 143), ('08048', 144), ('08078', 145), ('08222', 146), ('08223', 147), ('08224', 148), ('08225', 149), ('08226', 150), ('08227', 151), ('08273', 152), ('08477', 153), ('08478', 154), ('08479', 155), ('08480', 156), ('08481', 157), ('08555', 158), ('08812', 159), ('08912', 160), ('08967', 161), ('08968', 162), ('08969', 163), ('08970', 164), ('08971', 165), ('08972', 166), ('08973', 167), ('09090', 168), ('09091', 169), ('09092', 170), ('09093', 171), ('09094', 172), ('09095', 173), ('09096', 174), ('09097', 175), ('09098', 176), ('09248', 177), ('09249', 178), ('09744', 179), ('09745', 180), ('09746', 181), ('09747', 182), ('09748', 183), ('09749', 184), ('09750', 185), ('09860', 186), ('09953', 187), ('09954', 188), ('09955', 189), ('10052', 190), ('10577', 191), ('11228', 192), ('11229', 193), ('11545', 194), ('11546', 195), ('11547', 196), ('11548', 197), ('11549', 198), ('11550', 199), ('11551', 200), ('11552', 201), ('11553', 202), ('11554', 203), ('11555', 204), ('11556', 205), ('11557', 206), ('11558', 207), ('11559', 208), ('11560', 209), ('11561', 210), ('11562', 211), ('11563', 212), ('11564', 213), ('11565', 214), ('11566', 215), ('11567', 216), ('11568', 217), ('11569', 218), ('11570', 219), ('11571', 220), ('11597', 221), ('11598', 222), ('11599', 223), ('11683', 224), ('11801', 225), ('11802', 226), ('11830', 227), ('11831', 228), ('11832', 229), ('11979', 230), ('12034', 231), ('12035', 232), ('12036', 233), ('12037', 234), ('12038', 235), ('12039', 236), ('12102', 237), ('12409', 238), ('12410', 239), ('12411', 240), ('12412', 241), ('12638', 242), ('12688', 243), ('12851', 244), ('13130', 245), ('13131', 246), ('13698', 247), ('13877', 248), ('13878', 249), ('13943', 250), ('13944', 251), ('13945', 252), ('13946', 253), ('13947', 254), ('13948', 255), ('13949', 256), ('13950', 257), ('13951', 258), ('13952', 259), ('13953', 260), ('13954', 261), ('13955', 262), ('13956', 263), ('13957', 264), ('13958', 265), ('13959', 266), ('13960', 267), ('13961', 268), ('14042', 269), ('14043', 270), ('14044', 271), ('14060', 272), ('14061', 273), ('14062', 274), ('14063', 275), ('14064', 276), ('14408', 277), ('14575', 278), ('14684', 279), ('14685', 280), ('14686', 281), ('14687', 282), ('14689', 283), ('14706', 284), ('14841', 285), ('14842', 286), ('14843', 287), ('14844', 288), ('14887', 289), ('15036', 290), ('15037', 291), ('15038', 292), ('15039', 293), ('15040', 294), ('15041', 295), ('15042', 296), ('15043', 297), ('15296', 298), ('15346', 299)])\n"
          ]
        }
      ]
    },
    {
      "cell_type": "code",
      "source": [
        "valid_fn_t = {}\n",
        "for fn in sorted(glob(\"pls224p56_Orchidaceae_test/**/*.*\", recursive=True)):\n",
        "  bn = os.path.basename(fn)\n",
        "  valid_fn_t[bn] = fn\n",
        "\n",
        "o_t = []\n",
        "pl_t = []\n",
        "y_t = []\n",
        "orc_t = sorted(glob(\"orchidaceae_test/**/*.*\", recursive=True))\n",
        "for fn in tqdm(orc_t, total=len(list(orc_t))):\n",
        "  try:\n",
        "    bn =  os.path.basename(fn)\n",
        "    cat = cat_to_int[fn.split(\"/\")[-2]]\n",
        "    try:\n",
        "      pl_fn = valid_fn_t[bn]\n",
        "    except KeyError:\n",
        "      pass\n",
        "\n",
        "    img = image.load_img(fn, target_size=(224, 224))\n",
        "    x = image.img_to_array(img)\n",
        "    x = preprocess_input(x)\n",
        "    o_t.append(x)\n",
        "\n",
        "    img = image.load_img(pl_fn, target_size=(224, 224))\n",
        "    x = image.img_to_array(img)\n",
        "    x = preprocess_input(x)\n",
        "    pl_t.append(x)\n",
        "\n",
        "    y_t.append(cat)\n",
        "  except:\n",
        "    pass\n"
      ],
      "metadata": {
        "colab": {
          "base_uri": "https://localhost:8080/",
          "height": 49,
          "referenced_widgets": [
            "0642560727d64978a38f6012833f52c5",
            "32a40ead85354d538b29d3f5bdfc3347",
            "d3ca849937314137b7b056e00d8f097a",
            "e8715997d3354798b889c955fe84f96e",
            "32f21917cdd8409283939c50fdf59502",
            "f169abf18ccf461087b9ea070c844f7f",
            "b29fde175d7b4f9785063dc3fbfa3a37",
            "8fabc170f57b494289d563270d3fda50",
            "026e85d9a61e45f5b0df541791ac5503",
            "5adc65ebbe5f47bebffa30fd9b4f1b63",
            "68d74199efc94ee39b16bb7e8316dd42"
          ]
        },
        "id": "c48r7TF628Ip",
        "outputId": "1c0e7908-9bc8-48e0-fa10-27f1f5683ce9"
      },
      "execution_count": null,
      "outputs": [
        {
          "output_type": "display_data",
          "data": {
            "text/plain": [
              "  0%|          | 0/4577 [00:00<?, ?it/s]"
            ],
            "application/vnd.jupyter.widget-view+json": {
              "version_major": 2,
              "version_minor": 0,
              "model_id": "0642560727d64978a38f6012833f52c5"
            }
          },
          "metadata": {}
        }
      ]
    },
    {
      "cell_type": "code",
      "source": [
        "preds = []\n",
        "for ot, plt in tqdm(zip(o_t, pl_t), total=len(o_t)):\n",
        "  ot = np.array(ot).reshape((-1, 224, 224, 3))\n",
        "  plt = np.array(plt).reshape((-1, 224, 224, 3))\n",
        "  pred = np.argmax(model([ot, plt])[0])\n",
        "  preds.append(pred)"
      ],
      "metadata": {
        "colab": {
          "base_uri": "https://localhost:8080/",
          "height": 49,
          "referenced_widgets": [
            "3cc6a509a47a4c2387d8ce9858384c5c",
            "6766fcf6109d4a5d9db73d746d93392d",
            "e9799d726e834cf981cbdd91677a4a21",
            "bd255cedb7bd4738b9c16e8d5e63aac3",
            "9214d585a9c1432da48f6b63c1d2b972",
            "335e4e1fb49d4474b418a03c3c97ff57",
            "299c0ace07bc45bdba4276acaf8cba73",
            "07ce685dcc3c41e0a4eb20d59b6816c4",
            "121a02a3e3704446816b03db182ffc1c",
            "34802b933a7a4433871d8e7affce0efa",
            "d0e81eb8581e453dab6506fc6c8328cc"
          ]
        },
        "id": "R3wiuYZQ3vqb",
        "outputId": "dcb003e1-666e-43a3-df46-8c4ce01b1c4a"
      },
      "execution_count": null,
      "outputs": [
        {
          "output_type": "display_data",
          "data": {
            "text/plain": [
              "  0%|          | 0/4577 [00:00<?, ?it/s]"
            ],
            "application/vnd.jupyter.widget-view+json": {
              "version_major": 2,
              "version_minor": 0,
              "model_id": "3cc6a509a47a4c2387d8ce9858384c5c"
            }
          },
          "metadata": {}
        }
      ]
    },
    {
      "cell_type": "code",
      "source": [
        "from sklearn.metrics import accuracy_score\n",
        "\n",
        "print(accuracy_score(y_t, preds))"
      ],
      "metadata": {
        "colab": {
          "base_uri": "https://localhost:8080/"
        },
        "id": "LqjmWJ7B4L3c",
        "outputId": "9fc17de6-7679-4ee2-ac0c-00f08d0e444a"
      },
      "execution_count": null,
      "outputs": [
        {
          "output_type": "stream",
          "name": "stdout",
          "text": [
            "0.16255188988420363\n"
          ]
        }
      ]
    },
    {
      "cell_type": "code",
      "source": [
        ""
      ],
      "metadata": {
        "id": "JYSQ-9yB8-l0"
      },
      "execution_count": null,
      "outputs": []
    }
  ]
}